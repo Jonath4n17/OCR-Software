{
  "nbformat": 4,
  "nbformat_minor": 0,
  "metadata": {
    "colab": {
      "name": "Character CNN",
      "provenance": [],
      "collapsed_sections": []
    },
    "kernelspec": {
      "name": "python3",
      "display_name": "Python 3"
    },
    "language_info": {
      "name": "python"
    }
  },
  "cells": [
    {
      "cell_type": "markdown",
      "source": [
        "<h1> Handwritten Character ConvNet <h1>\n",
        "<p> The aim of this CNN is to correctly identify handwritten numbers and letters to be used in an OCR. This project uses primarily Python, PyTorch, Pandas, and NumPy. This Jupyter notebook was ran using Google Colab to utilise CUDA."
      ],
      "metadata": {
        "id": "i6FunF2b9jFv"
      }
    },
    {
      "cell_type": "code",
      "source": [
        "%matplotlib inline\n",
        "%config InlineBackend.figure_format = 'retina'\n",
        "\n",
        "import matplotlib.pyplot as plt\n",
        "\n",
        "import torch\n",
        "from torch import nn\n",
        "from torch import optim\n",
        "import torch.nn.functional as F\n",
        "from torchvision import transforms, models\n",
        "from torch.utils.data import Dataset, DataLoader\n",
        "\n",
        "import helper\n",
        "import pandas as pd\n",
        "import numpy as np"
      ],
      "metadata": {
        "id": "KITjl0C_ZGY0"
      },
      "execution_count": null,
      "outputs": []
    },
    {
      "cell_type": "markdown",
      "source": [
        "We will use the extended version of the EMNIST dataset to train our CNN on. The required files are located on my github: \n",
        "Note that to run this on your own, the file path must be changed."
      ],
      "metadata": {
        "id": "njj2wZ8u-Yih"
      }
    },
    {
      "cell_type": "code",
      "source": [
        "mapping_dir = \"/content/drive/MyDrive/ML Data/OCR_EMNIST/emnist-balanced-mapping.txt\"\n",
        "cfile = open(mapping_dir, \"r\")\n",
        "\n",
        "mapping = []\n",
        "\n",
        "for line in cfile:\n",
        "  values = line.split()\n",
        "  mapping.append(chr(int(values[1])))\n",
        "\n",
        "print(mapping)\n",
        "print(len(mapping))"
      ],
      "metadata": {
        "colab": {
          "base_uri": "https://localhost:8080/"
        },
        "id": "57-WH6Ach2iS",
        "outputId": "8a0a17e1-059c-4f4d-9059-abe73fd9ef6d"
      },
      "execution_count": null,
      "outputs": [
        {
          "output_type": "stream",
          "name": "stdout",
          "text": [
            "['0', '1', '2', '3', '4', '5', '6', '7', '8', '9', 'A', 'B', 'C', 'D', 'E', 'F', 'G', 'H', 'I', 'J', 'K', 'L', 'M', 'N', 'O', 'P', 'Q', 'R', 'S', 'T', 'U', 'V', 'W', 'X', 'Y', 'Z', 'a', 'b', 'd', 'e', 'f', 'g', 'h', 'n', 'q', 'r', 't']\n",
            "47\n"
          ]
        }
      ]
    },
    {
      "cell_type": "markdown",
      "source": [
        "To use a csv file with PyTorch's dataloader, we need to create our own Dataset class. There are no transformations needed as the EMNIST dataset has already handled that. We will have two dataloaders: test and train."
      ],
      "metadata": {
        "id": "ptZ6em3h_W3k"
      }
    },
    {
      "cell_type": "code",
      "source": [
        "train_dir = \"/content/drive/MyDrive/ML Data/OCR_EMNIST/emnist-balanced-train.csv\"\n",
        "test_dir = \"/content/drive/MyDrive/ML Data/OCR_EMNIST/emnist-balanced-test.csv\"\n",
        "\n",
        "class MyDataset(Dataset):\n",
        "  def __init__(self, root, transform = None):\n",
        "    self.data = pd.read_csv(root)\n",
        "    self.transform = transform\n",
        "    \n",
        "  def __getitem__(self, idx):\n",
        "    image = self.data.iloc[idx, 1:].values.astype(np.uint8).reshape((1, 28, 28))\n",
        "    image[0,:] = image[0,:].transpose()\n",
        "    label = self.data.iloc[idx, 0]\n",
        "    if self.transform:\n",
        "      image = self.transform(image)\n",
        "    return image, label\n",
        "\n",
        "  def __len__(self):\n",
        "    return len(self.data)\n",
        "\n",
        "train_dataset = MyDataset(train_dir)\n",
        "test_dataset = MyDataset(test_dir)\n",
        "\n",
        "trainloader = DataLoader(train_dataset, batch_size=64, shuffle=True)\n",
        "testloader = DataLoader(test_dataset, batch_size=64, shuffle=True)"
      ],
      "metadata": {
        "id": "iVUM9zAjZ124"
      },
      "execution_count": null,
      "outputs": []
    },
    {
      "cell_type": "markdown",
      "source": [
        "Below is an example of a training image from the EMNIST dataset"
      ],
      "metadata": {
        "id": "WDaKmgwH_wfM"
      }
    },
    {
      "cell_type": "code",
      "source": [
        "images, labels = next(iter(trainloader))\n",
        "plt.imshow(torch.squeeze(images[0]).numpy(), cmap='gray')\n",
        "print(f\"Label: {mapping[labels[0].item()]}\")\n",
        "print(images.shape)"
      ],
      "metadata": {
        "colab": {
          "base_uri": "https://localhost:8080/",
          "height": 300
        },
        "id": "ePdnLNPXfIuV",
        "outputId": "6cc5a5ea-592c-419b-d30e-2187ddf55be2"
      },
      "execution_count": null,
      "outputs": [
        {
          "output_type": "stream",
          "name": "stdout",
          "text": [
            "Label: C\n",
            "torch.Size([64, 1, 28, 28])\n"
          ]
        },
        {
          "output_type": "display_data",
          "data": {
            "image/png": "[encoded data removed]",
            "text/plain": [
              "<Figure size 432x288 with 1 Axes>"
            ]
          },
          "metadata": {
            "image/png": {
              "width": 251,
              "height": 248
            },
            "needs_background": "light"
          }
        }
      ]
    },
    {
      "cell_type": "markdown",
      "source": [
        "The CNN structure that we use consists of a small model with three convolutional layers."
      ],
      "metadata": {
        "id": "FHqjI0tUAB_e"
      }
    },
    {
      "cell_type": "code",
      "source": [
        "class Model(nn.Module):\n",
        "  def __init__(self):\n",
        "    super(Model, self).__init__()\n",
        "    self.conv1 = nn.Conv2d(1, 32, 5, padding=2)\n",
        "    self.conv2 = nn.Conv2d(32, 64, 5, padding=2)\n",
        "    self.conv3 = nn.Conv2d(64, 128, 3, padding=1)\n",
        "    self.pool = nn.MaxPool2d(2, 2, ceil_mode=True)\n",
        "    self.fc1 = nn.Linear(4 * 4 * 128, 256)\n",
        "    self.fc2 = nn.Linear(256, 47)\n",
        "    self.dropout = nn.Dropout(0.25)\n",
        "\n",
        "  def forward(self, x):\n",
        "    x = self.pool(F.relu((self.conv1(x))))\n",
        "    x = self.pool(F.relu((self.conv2(x))))\n",
        "    x = self.pool(F.relu((self.conv3(x))))\n",
        "\n",
        "    x = x.view(-1, 4 * 4 * 128)\n",
        "    x = self.dropout(x)\n",
        "    x = F.relu(self.fc1(x))\n",
        "    x = self.dropout(x)\n",
        "    x = self.fc2(x)\n",
        "    \n",
        "    return x\n",
        "\n",
        "model = Model()\n",
        "print(model)"
      ],
      "metadata": {
        "colab": {
          "base_uri": "https://localhost:8080/"
        },
        "id": "WjxuMCsbk8WS",
        "outputId": "2d2121ce-bbe2-4091-eb3f-255702e85914"
      },
      "execution_count": null,
      "outputs": [
        {
          "output_type": "stream",
          "name": "stdout",
          "text": [
            "Model(\n",
            "  (conv1): Conv2d(1, 32, kernel_size=(5, 5), stride=(1, 1), padding=(2, 2))\n",
            "  (conv2): Conv2d(32, 64, kernel_size=(5, 5), stride=(1, 1), padding=(2, 2))\n",
            "  (conv3): Conv2d(64, 128, kernel_size=(3, 3), stride=(1, 1), padding=(1, 1))\n",
            "  (pool): MaxPool2d(kernel_size=2, stride=2, padding=0, dilation=1, ceil_mode=True)\n",
            "  (fc1): Linear(in_features=2048, out_features=256, bias=True)\n",
            "  (fc2): Linear(in_features=256, out_features=47, bias=True)\n",
            "  (dropout): Dropout(p=0.25, inplace=False)\n",
            ")\n"
          ]
        }
      ]
    },
    {
      "cell_type": "code",
      "source": [
        "train_on_gpu = torch.cuda.is_available()\n",
        "if train_on_gpu:\n",
        "  model.cuda()\n",
        "  print(\"Training on GPU\")\n",
        "else:\n",
        "  print(\"Training on CPU\")"
      ],
      "metadata": {
        "colab": {
          "base_uri": "https://localhost:8080/"
        },
        "id": "Qy9cYqVmlhT6",
        "outputId": "d4ffab25-8ba0-483b-ff42-f0af341e6259"
      },
      "execution_count": null,
      "outputs": [
        {
          "output_type": "stream",
          "name": "stdout",
          "text": [
            "Training on GPU\n"
          ]
        }
      ]
    },
    {
      "cell_type": "code",
      "source": [
        "criterion = nn.CrossEntropyLoss()\n",
        "optimizer = optim.RMSprop(model.parameters(), lr=0.001)"
      ],
      "metadata": {
        "id": "KxVXiXSOmTsd"
      },
      "execution_count": null,
      "outputs": []
    },
    {
      "cell_type": "markdown",
      "source": [
        "The training of the model takes place here. You can change the parameters like the number of epochs or the learning rate to try to achieve a higher accuracy rating. The default is 10 epochs and a learning rate of 0.001."
      ],
      "metadata": {
        "id": "1hcIp5FlAL-f"
      }
    },
    {
      "cell_type": "code",
      "source": [
        "n_epochs = 10\n",
        "\n",
        "valid_loss_min = np.Inf\n",
        "\n",
        "for epoch in range(1, n_epochs+1):\n",
        "  train_loss = 0.0\n",
        "  valid_loss = 0.0\n",
        "\n",
        "  model.train()\n",
        "  for data, target in trainloader:\n",
        "    if train_on_gpu:\n",
        "      data, target = data.cuda(), target.cuda()\n",
        "    optimizer.zero_grad()\n",
        "    output = model(data.float())\n",
        "    loss = criterion(output, target)\n",
        "    loss.backward()\n",
        "    optimizer.step()\n",
        "    train_loss += loss.item()\n",
        "\n",
        "  model.eval()\n",
        "  with torch.no_grad():\n",
        "    for data, target in testloader:\n",
        "      if train_on_gpu:\n",
        "        data, target = data.cuda(), target.cuda()\n",
        "      output = model(data.float())\n",
        "      loss = criterion(output, target)\n",
        "      valid_loss += loss.item()\n",
        "\n",
        "    train_loss = train_loss / len(trainloader)\n",
        "    valid_loss = valid_loss / len(testloader)\n",
        "\n",
        "  print('Epoch: {} \\tTraining Loss: {:.6f} \\tValidation Loss: {:.6f}'.format(\n",
        "        epoch, train_loss, valid_loss))\n",
        "\n",
        "  if valid_loss <= valid_loss_min:\n",
        "      print('Validation loss decreased ({:.6f} --> {:.6f}).  Saving model ...'.format(\n",
        "      valid_loss_min,\n",
        "      valid_loss))\n",
        "      torch.save(model.state_dict(), 'model_params.pt')\n",
        "      valid_loss_min = valid_loss"
      ],
      "metadata": {
        "colab": {
          "base_uri": "https://localhost:8080/"
        },
        "id": "oxIZMArjmbOW",
        "outputId": "a8db2ae9-58b1-4ad4-d722-0c33804989a2"
      },
      "execution_count": null,
      "outputs": [
        {
          "output_type": "stream",
          "name": "stdout",
          "text": [
            "Epoch: 1 \tTraining Loss: 1.090557 \tValidation Loss: 0.466180\n",
            "Validation loss decreased (inf --> 0.466180).  Saving model ...\n",
            "Epoch: 2 \tTraining Loss: 0.480160 \tValidation Loss: 0.436697\n",
            "Validation loss decreased (0.466180 --> 0.436697).  Saving model ...\n",
            "Epoch: 3 \tTraining Loss: 0.435584 \tValidation Loss: 0.392554\n",
            "Validation loss decreased (0.436697 --> 0.392554).  Saving model ...\n",
            "Epoch: 4 \tTraining Loss: 0.416985 \tValidation Loss: 0.390054\n",
            "Validation loss decreased (0.392554 --> 0.390054).  Saving model ...\n",
            "Epoch: 5 \tTraining Loss: 0.401744 \tValidation Loss: 0.379415\n",
            "Validation loss decreased (0.390054 --> 0.379415).  Saving model ...\n",
            "Epoch: 6 \tTraining Loss: 0.396717 \tValidation Loss: 0.402101\n",
            "Epoch: 7 \tTraining Loss: 0.388433 \tValidation Loss: 0.374881\n",
            "Validation loss decreased (0.379415 --> 0.374881).  Saving model ...\n",
            "Epoch: 8 \tTraining Loss: 0.384672 \tValidation Loss: 0.376633\n",
            "Epoch: 9 \tTraining Loss: 0.381389 \tValidation Loss: 0.402906\n",
            "Epoch: 10 \tTraining Loss: 0.381725 \tValidation Loss: 0.372406\n",
            "Validation loss decreased (0.374881 --> 0.372406).  Saving model ...\n"
          ]
        }
      ]
    },
    {
      "cell_type": "markdown",
      "source": [
        "The model parameters will be saved as a file named \"model_pararms.pt\""
      ],
      "metadata": {
        "id": "xWN__lDPAbbR"
      }
    },
    {
      "cell_type": "code",
      "source": [
        "model.load_state_dict(torch.load('model_params.pt'))"
      ],
      "metadata": {
        "colab": {
          "base_uri": "https://localhost:8080/"
        },
        "id": "p7kXjA5W6bUy",
        "outputId": "dfa274cf-50f9-4a09-a45b-72cca380421b"
      },
      "execution_count": null,
      "outputs": [
        {
          "output_type": "execute_result",
          "data": {
            "text/plain": [
              "<All keys matched successfully>"
            ]
          },
          "metadata": {},
          "execution_count": 10
        }
      ]
    },
    {
      "cell_type": "markdown",
      "source": [
        "The used CNN model has an overall test accuracy of 87.69%."
      ],
      "metadata": {
        "id": "p8XpqbtvAzUk"
      }
    },
    {
      "cell_type": "code",
      "source": [
        "test_loss = 0\n",
        "accuracy = 0\n",
        "model.eval()\n",
        "with torch.no_grad():\n",
        "  for data, target in testloader:\n",
        "    if train_on_gpu:\n",
        "      data, target = data.cuda(), target.cuda()\n",
        "    logps = model(data.float())\n",
        "    ps = torch.softmax(logps, dim=1)\n",
        "    top_p, top_class = ps.topk(1, dim=1)\n",
        "    equals = top_class == target.view(*top_class.shape)\n",
        "    accuracy += torch.mean(equals.type(torch.FloatTensor)).item()\n",
        "\n",
        "print(f\"Test accuracy: {100 * accuracy/len(testloader):.3f}%\")"
      ],
      "metadata": {
        "colab": {
          "base_uri": "https://localhost:8080/"
        },
        "id": "b3HVulOa7CK9",
        "outputId": "4d673058-54ee-483a-bba7-494d9c34bc05"
      },
      "execution_count": null,
      "outputs": [
        {
          "output_type": "stream",
          "name": "stdout",
          "text": [
            "Test accuracy: 87.686%\n"
          ]
        }
      ]
    },
    {
      "cell_type": "markdown",
      "source": [
        "This code allows you test the model and predict the labels of character images. As you can see, the model makes reasonable mistakes that humans would commonly make like mistaking the number 5 for S or the number 0 for O. To achieve an even better model, more layers could be added or transfer learning could be used instead too."
      ],
      "metadata": {
        "id": "jyY0wzQ8AhR6"
      }
    },
    {
      "cell_type": "code",
      "source": [
        "data, target = iter(testloader).next()\n",
        "model.to(\"cpu\")\n",
        "\n",
        "with torch.no_grad():\n",
        "  prob = model(data.float())\n",
        "  ps = torch.softmax(prob, dim=1)\n",
        "  top_p, top_class = ps.topk(1, dim=1)\n",
        "\n",
        "print(\"Prediction: \" + str(mapping[int(top_class[0])]))\n",
        "print(\"Label: \" + str(mapping[int(target[0])]))\n",
        "plt.imshow(torch.squeeze(data[0]).numpy())"
      ],
      "metadata": {
        "colab": {
          "base_uri": "https://localhost:8080/",
          "height": 317
        },
        "id": "uNXlgE299Ybr",
        "outputId": "2576acd0-cd88-41e3-df02-edaa9d433530"
      },
      "execution_count": null,
      "outputs": [
        {
          "output_type": "stream",
          "name": "stdout",
          "text": [
            "Prediction: 0\n",
            "Label: O\n"
          ]
        },
        {
          "output_type": "execute_result",
          "data": {
            "text/plain": [
              "<matplotlib.image.AxesImage at 0x7fb50caa3890>"
            ]
          },
          "metadata": {},
          "execution_count": 15
        },
        {
          "output_type": "display_data",
          "data": {
            "image/png": "[encoded data removed]",
            "text/plain": [
              "<Figure size 432x288 with 1 Axes>"
            ]
          },
          "metadata": {
            "image/png": {
              "width": 251,
              "height": 248
            },
            "needs_background": "light"
          }
        }
      ]
    }
  ]
}